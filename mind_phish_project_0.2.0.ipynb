{
 "cells": [
  {
   "cell_type": "code",
   "execution_count": 1,
   "id": "fe8d3434",
   "metadata": {},
   "outputs": [
    {
     "name": "stdout",
     "output_type": "stream",
     "text": [
      "Requirement already satisfied: wordcloud in c:\\users\\cheta\\appdata\\local\\packages\\pythonsoftwarefoundation.python.3.9_qbz5n2kfra8p0\\localcache\\local-packages\\python39\\site-packages (1.8.1)\n",
      "Requirement already satisfied: numpy>=1.6.1 in c:\\users\\cheta\\appdata\\local\\packages\\pythonsoftwarefoundation.python.3.9_qbz5n2kfra8p0\\localcache\\local-packages\\python39\\site-packages (from wordcloud) (1.22.2)\n",
      "Requirement already satisfied: pillow in c:\\users\\cheta\\appdata\\local\\packages\\pythonsoftwarefoundation.python.3.9_qbz5n2kfra8p0\\localcache\\local-packages\\python39\\site-packages (from wordcloud) (9.0.1)\n",
      "Requirement already satisfied: matplotlib in c:\\users\\cheta\\appdata\\local\\packages\\pythonsoftwarefoundation.python.3.9_qbz5n2kfra8p0\\localcache\\local-packages\\python39\\site-packages (from wordcloud) (3.5.1)\n",
      "Requirement already satisfied: fonttools>=4.22.0 in c:\\users\\cheta\\appdata\\local\\packages\\pythonsoftwarefoundation.python.3.9_qbz5n2kfra8p0\\localcache\\local-packages\\python39\\site-packages (from matplotlib->wordcloud) (4.29.1)\n",
      "Requirement already satisfied: cycler>=0.10 in c:\\users\\cheta\\appdata\\local\\packages\\pythonsoftwarefoundation.python.3.9_qbz5n2kfra8p0\\localcache\\local-packages\\python39\\site-packages (from matplotlib->wordcloud) (0.11.0)\n",
      "Requirement already satisfied: kiwisolver>=1.0.1 in c:\\users\\cheta\\appdata\\local\\packages\\pythonsoftwarefoundation.python.3.9_qbz5n2kfra8p0\\localcache\\local-packages\\python39\\site-packages (from matplotlib->wordcloud) (1.3.2)\n",
      "Requirement already satisfied: pyparsing>=2.2.1 in c:\\users\\cheta\\appdata\\local\\packages\\pythonsoftwarefoundation.python.3.9_qbz5n2kfra8p0\\localcache\\local-packages\\python39\\site-packages (from matplotlib->wordcloud) (3.0.7)\n",
      "Requirement already satisfied: python-dateutil>=2.7 in c:\\users\\cheta\\appdata\\local\\packages\\pythonsoftwarefoundation.python.3.9_qbz5n2kfra8p0\\localcache\\local-packages\\python39\\site-packages (from matplotlib->wordcloud) (2.8.2)\n",
      "Requirement already satisfied: packaging>=20.0 in c:\\users\\cheta\\appdata\\local\\packages\\pythonsoftwarefoundation.python.3.9_qbz5n2kfra8p0\\localcache\\local-packages\\python39\\site-packages (from matplotlib->wordcloud) (21.3)\n",
      "Requirement already satisfied: six>=1.5 in c:\\users\\cheta\\appdata\\local\\packages\\pythonsoftwarefoundation.python.3.9_qbz5n2kfra8p0\\localcache\\local-packages\\python39\\site-packages (from python-dateutil>=2.7->matplotlib->wordcloud) (1.16.0)\n",
      "Note: you may need to restart the kernel to use updated packages.\n"
     ]
    },
    {
     "name": "stderr",
     "output_type": "stream",
     "text": [
      "WARNING: Ignoring invalid distribution -ip (c:\\users\\cheta\\appdata\\local\\packages\\pythonsoftwarefoundation.python.3.9_qbz5n2kfra8p0\\localcache\\local-packages\\python39\\site-packages)\n",
      "WARNING: Ignoring invalid distribution -ip (c:\\users\\cheta\\appdata\\local\\packages\\pythonsoftwarefoundation.python.3.9_qbz5n2kfra8p0\\localcache\\local-packages\\python39\\site-packages)\n",
      "WARNING: Ignoring invalid distribution -ip (c:\\users\\cheta\\appdata\\local\\packages\\pythonsoftwarefoundation.python.3.9_qbz5n2kfra8p0\\localcache\\local-packages\\python39\\site-packages)\n",
      "WARNING: Ignoring invalid distribution -ip (c:\\users\\cheta\\appdata\\local\\packages\\pythonsoftwarefoundation.python.3.9_qbz5n2kfra8p0\\localcache\\local-packages\\python39\\site-packages)\n",
      "WARNING: Ignoring invalid distribution -ip (c:\\users\\cheta\\appdata\\local\\packages\\pythonsoftwarefoundation.python.3.9_qbz5n2kfra8p0\\localcache\\local-packages\\python39\\site-packages)\n",
      "WARNING: Ignoring invalid distribution -ip (c:\\users\\cheta\\appdata\\local\\packages\\pythonsoftwarefoundation.python.3.9_qbz5n2kfra8p0\\localcache\\local-packages\\python39\\site-packages)\n"
     ]
    }
   ],
   "source": [
    "pip install wordcloud"
   ]
  },
  {
   "cell_type": "code",
   "execution_count": 10,
   "id": "58c9b966",
   "metadata": {},
   "outputs": [
    {
     "ename": "ModuleNotFoundError",
     "evalue": "No module named 'seaborn'",
     "output_type": "error",
     "traceback": [
      "\u001b[1;31m---------------------------------------------------------------------------\u001b[0m",
      "\u001b[1;31mModuleNotFoundError\u001b[0m                       Traceback (most recent call last)",
      "\u001b[1;32m~\\AppData\\Local\\Temp/ipykernel_22920/677727826.py\u001b[0m in \u001b[0;36m<module>\u001b[1;34m\u001b[0m\n\u001b[0;32m      9\u001b[0m \u001b[1;32mfrom\u001b[0m \u001b[0msklearn\u001b[0m\u001b[1;33m.\u001b[0m\u001b[0msvm\u001b[0m \u001b[1;32mimport\u001b[0m \u001b[0mLinearSVC\u001b[0m\u001b[1;33m\u001b[0m\u001b[1;33m\u001b[0m\u001b[0m\n\u001b[0;32m     10\u001b[0m \u001b[1;32mimport\u001b[0m \u001b[0mpickle\u001b[0m\u001b[1;33m\u001b[0m\u001b[1;33m\u001b[0m\u001b[0m\n\u001b[1;32m---> 11\u001b[1;33m \u001b[1;32mimport\u001b[0m \u001b[0mseaborn\u001b[0m \u001b[1;32mas\u001b[0m \u001b[0msns\u001b[0m\u001b[1;33m\u001b[0m\u001b[1;33m\u001b[0m\u001b[0m\n\u001b[0m\u001b[0;32m     12\u001b[0m \u001b[1;32mfrom\u001b[0m \u001b[0mnltk\u001b[0m\u001b[1;33m.\u001b[0m\u001b[0mstem\u001b[0m \u001b[1;32mimport\u001b[0m \u001b[0mWordNetLemmatizer\u001b[0m\u001b[1;33m\u001b[0m\u001b[1;33m\u001b[0m\u001b[0m\n\u001b[0;32m     13\u001b[0m \u001b[1;32mfrom\u001b[0m \u001b[0msklearn\u001b[0m\u001b[1;33m.\u001b[0m\u001b[0mmodel_selection\u001b[0m \u001b[1;32mimport\u001b[0m \u001b[0mtrain_test_split\u001b[0m\u001b[1;33m\u001b[0m\u001b[1;33m\u001b[0m\u001b[0m\n",
      "\u001b[1;31mModuleNotFoundError\u001b[0m: No module named 'seaborn'"
     ]
    }
   ],
   "source": [
    "import pandas as pd\n",
    "from sklearn.pipeline import make_pipeline\n",
    "from nltk.tokenize import RegexpTokenizer\n",
    "from nltk.stem import PorterStemmer\n",
    "from nltk.tokenize import word_tokenize\n",
    "from sklearn.feature_extraction.text import TfidfVectorizer\n",
    "\n",
    "from sklearn.linear_model import LogisticRegression\n",
    "from sklearn.svm import LinearSVC\n",
    "import pickle\n",
    "import seaborn as sns\n",
    "from nltk.stem import WordNetLemmatizer\n",
    "from sklearn.model_selection import train_test_split\n",
    "from sklearn.metrics import confusion_matrix\n",
    "from sklearn.metrics import classification_report\n",
    "import matplotlib.pyplot as plt\n",
    "from matplotlib.pyplot import figure\n"
   ]
  },
  {
   "cell_type": "code",
   "execution_count": null,
   "id": "290a78d9",
   "metadata": {},
   "outputs": [],
   "source": [
    "df = pd.read_csv(\"phishing_site_urls.csv\")"
   ]
  },
  {
   "cell_type": "code",
   "execution_count": null,
   "id": "cab8d0b8",
   "metadata": {},
   "outputs": [
    {
     "data": {
      "text/html": [
       "<div>\n",
       "<style scoped>\n",
       "    .dataframe tbody tr th:only-of-type {\n",
       "        vertical-align: middle;\n",
       "    }\n",
       "\n",
       "    .dataframe tbody tr th {\n",
       "        vertical-align: top;\n",
       "    }\n",
       "\n",
       "    .dataframe thead th {\n",
       "        text-align: right;\n",
       "    }\n",
       "</style>\n",
       "<table border=\"1\" class=\"dataframe\">\n",
       "  <thead>\n",
       "    <tr style=\"text-align: right;\">\n",
       "      <th></th>\n",
       "      <th>URL</th>\n",
       "      <th>Label</th>\n",
       "    </tr>\n",
       "  </thead>\n",
       "  <tbody>\n",
       "    <tr>\n",
       "      <th>549841</th>\n",
       "      <td>cam.ac.uk</td>\n",
       "      <td>good</td>\n",
       "    </tr>\n",
       "    <tr>\n",
       "      <th>549842</th>\n",
       "      <td>over-blog-kiwi.com</td>\n",
       "      <td>good</td>\n",
       "    </tr>\n",
       "    <tr>\n",
       "      <th>549843</th>\n",
       "      <td>merriam-webster.com</td>\n",
       "      <td>good</td>\n",
       "    </tr>\n",
       "    <tr>\n",
       "      <th>549844</th>\n",
       "      <td>bp3.blogger.com</td>\n",
       "      <td>good</td>\n",
       "    </tr>\n",
       "    <tr>\n",
       "      <th>549845</th>\n",
       "      <td>kinja.com</td>\n",
       "      <td>good</td>\n",
       "    </tr>\n",
       "  </tbody>\n",
       "</table>\n",
       "</div>"
      ],
      "text/plain": [
       "                        URL Label\n",
       "549841            cam.ac.uk  good\n",
       "549842   over-blog-kiwi.com  good\n",
       "549843  merriam-webster.com  good\n",
       "549844      bp3.blogger.com  good\n",
       "549845            kinja.com  good"
      ]
     },
     "execution_count": 4,
     "metadata": {},
     "output_type": "execute_result"
    }
   ],
   "source": [
    "df.head()\n",
    "df.tail()"
   ]
  },
  {
   "cell_type": "code",
   "execution_count": null,
   "id": "4685b463",
   "metadata": {},
   "outputs": [
    {
     "name": "stdout",
     "output_type": "stream",
     "text": [
      "<class 'pandas.core.frame.DataFrame'>\n",
      "RangeIndex: 549846 entries, 0 to 549845\n",
      "Data columns (total 2 columns):\n",
      " #   Column  Non-Null Count   Dtype \n",
      "---  ------  --------------   ----- \n",
      " 0   URL     549846 non-null  object\n",
      " 1   Label   549846 non-null  object\n",
      "dtypes: object(2)\n",
      "memory usage: 8.4+ MB\n"
     ]
    }
   ],
   "source": [
    "df.dtypes\n",
    "df.info()"
   ]
  },
  {
   "cell_type": "code",
   "execution_count": null,
   "id": "8d6df4a1",
   "metadata": {},
   "outputs": [
    {
     "data": {
      "text/plain": [
       "URL      0\n",
       "Label    0\n",
       "dtype: int64"
      ]
     },
     "execution_count": 6,
     "metadata": {},
     "output_type": "execute_result"
    }
   ],
   "source": [
    "df.count\n",
    "df.isnull().sum()"
   ]
  },
  {
   "cell_type": "code",
   "execution_count": null,
   "id": "39006431",
   "metadata": {},
   "outputs": [
    {
     "ename": "NameError",
     "evalue": "name 'pd' is not defined",
     "output_type": "error",
     "traceback": [
      "\u001b[1;31m---------------------------------------------------------------------------\u001b[0m",
      "\u001b[1;31mNameError\u001b[0m                                 Traceback (most recent call last)",
      "\u001b[1;32m~\\AppData\\Local\\Temp/ipykernel_22920/3072975786.py\u001b[0m in \u001b[0;36m<module>\u001b[1;34m\u001b[0m\n\u001b[1;32m----> 1\u001b[1;33m \u001b[0mlabel_counts\u001b[0m \u001b[1;33m=\u001b[0m \u001b[0mpd\u001b[0m\u001b[1;33m.\u001b[0m\u001b[0mDataFrame\u001b[0m\u001b[1;33m(\u001b[0m\u001b[0mdf\u001b[0m\u001b[1;33m.\u001b[0m\u001b[0mLabel\u001b[0m\u001b[1;33m.\u001b[0m\u001b[0mvalue_counts\u001b[0m\u001b[1;33m(\u001b[0m\u001b[1;33m)\u001b[0m\u001b[1;33m)\u001b[0m\u001b[1;33m\u001b[0m\u001b[1;33m\u001b[0m\u001b[0m\n\u001b[0m",
      "\u001b[1;31mNameError\u001b[0m: name 'pd' is not defined"
     ]
    }
   ],
   "source": [
    "label_counts = pd.DataFrame(df.Label.value_counts())"
   ]
  },
  {
   "cell_type": "code",
   "execution_count": null,
   "id": "c795a2ed",
   "metadata": {},
   "outputs": [],
   "source": [
    "import seaborn as sns"
   ]
  },
  {
   "cell_type": "code",
   "execution_count": null,
   "id": "c8d909d8",
   "metadata": {},
   "outputs": [
    {
     "name": "stderr",
     "output_type": "stream",
     "text": [
      "C:\\ProgramData\\Anaconda3\\lib\\site-packages\\seaborn\\_decorators.py:36: FutureWarning: Pass the following variables as keyword args: x, y. From version 0.12, the only valid positional argument will be `data`, and passing other arguments without an explicit keyword will result in an error or misinterpretation.\n",
      "  warnings.warn(\n"
     ]
    },
    {
     "data": {
      "text/plain": [
       "<AxesSubplot:ylabel='Label'>"
      ]
     },
     "execution_count": 9,
     "metadata": {},
     "output_type": "execute_result"
    },
    {
     "data": {
      "image/png": "[encoded data removed]",
      "text/plain": [
       "<Figure size 432x288 with 1 Axes>"
      ]
     },
     "metadata": {
      "needs_background": "light"
     },
     "output_type": "display_data"
    }
   ],
   "source": [
    "sns.barplot(label_counts.index,label_counts.Label)"
   ]
  },
  {
   "cell_type": "code",
   "execution_count": null,
   "id": "8f0eebce",
   "metadata": {},
   "outputs": [],
   "source": [
    "wordnet = WordNetLemmatizer()"
   ]
  },
  {
   "cell_type": "code",
   "execution_count": null,
   "id": "b72b4c37",
   "metadata": {},
   "outputs": [],
   "source": [
    "X = df.iloc[:,:-1]\n"
   ]
  },
  {
   "cell_type": "code",
   "execution_count": null,
   "id": "43fc4d47",
   "metadata": {},
   "outputs": [
    {
     "data": {
      "text/html": [
       "<div>\n",
       "<style scoped>\n",
       "    .dataframe tbody tr th:only-of-type {\n",
       "        vertical-align: middle;\n",
       "    }\n",
       "\n",
       "    .dataframe tbody tr th {\n",
       "        vertical-align: top;\n",
       "    }\n",
       "\n",
       "    .dataframe thead th {\n",
       "        text-align: right;\n",
       "    }\n",
       "</style>\n",
       "<table border=\"1\" class=\"dataframe\">\n",
       "  <thead>\n",
       "    <tr style=\"text-align: right;\">\n",
       "      <th></th>\n",
       "      <th>URL</th>\n",
       "    </tr>\n",
       "  </thead>\n",
       "  <tbody>\n",
       "    <tr>\n",
       "      <th>0</th>\n",
       "      <td>nobell.it/70ffb52d079109dca5664cce6f317373782/...</td>\n",
       "    </tr>\n",
       "    <tr>\n",
       "      <th>1</th>\n",
       "      <td>www.dghjdgf.com/paypal.co.uk/cycgi-bin/webscrc...</td>\n",
       "    </tr>\n",
       "    <tr>\n",
       "      <th>2</th>\n",
       "      <td>serviciosbys.com/paypal.cgi.bin.get-into.herf....</td>\n",
       "    </tr>\n",
       "    <tr>\n",
       "      <th>3</th>\n",
       "      <td>mail.printakid.com/www.online.americanexpress....</td>\n",
       "    </tr>\n",
       "    <tr>\n",
       "      <th>4</th>\n",
       "      <td>thewhiskeydregs.com/wp-content/themes/widescre...</td>\n",
       "    </tr>\n",
       "    <tr>\n",
       "      <th>...</th>\n",
       "      <td>...</td>\n",
       "    </tr>\n",
       "    <tr>\n",
       "      <th>549841</th>\n",
       "      <td>cam.ac.uk</td>\n",
       "    </tr>\n",
       "    <tr>\n",
       "      <th>549842</th>\n",
       "      <td>over-blog-kiwi.com</td>\n",
       "    </tr>\n",
       "    <tr>\n",
       "      <th>549843</th>\n",
       "      <td>merriam-webster.com</td>\n",
       "    </tr>\n",
       "    <tr>\n",
       "      <th>549844</th>\n",
       "      <td>bp3.blogger.com</td>\n",
       "    </tr>\n",
       "    <tr>\n",
       "      <th>549845</th>\n",
       "      <td>kinja.com</td>\n",
       "    </tr>\n",
       "  </tbody>\n",
       "</table>\n",
       "<p>549846 rows × 1 columns</p>\n",
       "</div>"
      ],
      "text/plain": [
       "                                                      URL\n",
       "0       nobell.it/70ffb52d079109dca5664cce6f317373782/...\n",
       "1       www.dghjdgf.com/paypal.co.uk/cycgi-bin/webscrc...\n",
       "2       serviciosbys.com/paypal.cgi.bin.get-into.herf....\n",
       "3       mail.printakid.com/www.online.americanexpress....\n",
       "4       thewhiskeydregs.com/wp-content/themes/widescre...\n",
       "...                                                   ...\n",
       "549841                                          cam.ac.uk\n",
       "549842                                 over-blog-kiwi.com\n",
       "549843                                merriam-webster.com\n",
       "549844                                    bp3.blogger.com\n",
       "549845                                          kinja.com\n",
       "\n",
       "[549846 rows x 1 columns]"
      ]
     },
     "execution_count": 12,
     "metadata": {},
     "output_type": "execute_result"
    }
   ],
   "source": [
    "X"
   ]
  },
  {
   "cell_type": "code",
   "execution_count": null,
   "id": "57c02fc8",
   "metadata": {},
   "outputs": [
    {
     "data": {
      "text/plain": [
       "0          bad\n",
       "1          bad\n",
       "2          bad\n",
       "3          bad\n",
       "4          bad\n",
       "          ... \n",
       "549841    good\n",
       "549842    good\n",
       "549843    good\n",
       "549844    good\n",
       "549845    good\n",
       "Name: Label, Length: 549846, dtype: object"
      ]
     },
     "execution_count": 13,
     "metadata": {},
     "output_type": "execute_result"
    }
   ],
   "source": [
    "Y = df.iloc[:,-1]\n",
    "Y"
   ]
  },
  {
   "cell_type": "code",
   "execution_count": null,
   "id": "e5f6fed2",
   "metadata": {},
   "outputs": [],
   "source": [
    "import re"
   ]
  },
  {
   "cell_type": "code",
   "execution_count": null,
   "id": "39b0d865",
   "metadata": {},
   "outputs": [],
   "source": [
    "corpus = []"
   ]
  },
  {
   "cell_type": "code",
   "execution_count": null,
   "id": "54e5ee6d",
   "metadata": {},
   "outputs": [],
   "source": [
    "tokenizer = RegexpTokenizer(r'[A-Za-z]+')"
   ]
  },
  {
   "cell_type": "code",
   "execution_count": null,
   "id": "3afe669e",
   "metadata": {},
   "outputs": [
    {
     "data": {
      "text/plain": [
       "'epublishasia.com/'"
      ]
     },
     "execution_count": 17,
     "metadata": {},
     "output_type": "execute_result"
    }
   ],
   "source": [
    "X.URL[322998]"
   ]
  },
  {
   "cell_type": "code",
   "execution_count": null,
   "id": "6addfdb6",
   "metadata": {},
   "outputs": [],
   "source": [
    "df['X'] = df.URL.map(lambda t: tokenizer.tokenize(t))"
   ]
  },
  {
   "cell_type": "code",
   "execution_count": null,
   "id": "9bd2c89a",
   "metadata": {},
   "outputs": [
    {
     "data": {
      "text/plain": [
       "URL    devinkellerart.com/g7cberv\n",
       "Name: 539325, dtype: object"
      ]
     },
     "metadata": {},
     "output_type": "display_data"
    }
   ],
   "source": [
    "display(X.iloc[539325])"
   ]
  },
  {
   "cell_type": "code",
   "execution_count": null,
   "id": "d19f6d94",
   "metadata": {},
   "outputs": [],
   "source": [
    "ps = PorterStemmer()\n",
    "df['text_stemmed'] = df['X'].map(lambda l: [ps.stem(word) for word in l])"
   ]
  },
  {
   "cell_type": "code",
   "execution_count": null,
   "id": "240b4673",
   "metadata": {},
   "outputs": [
    {
     "data": {
      "text/html": [
       "<div>\n",
       "<style scoped>\n",
       "    .dataframe tbody tr th:only-of-type {\n",
       "        vertical-align: middle;\n",
       "    }\n",
       "\n",
       "    .dataframe tbody tr th {\n",
       "        vertical-align: top;\n",
       "    }\n",
       "\n",
       "    .dataframe thead th {\n",
       "        text-align: right;\n",
       "    }\n",
       "</style>\n",
       "<table border=\"1\" class=\"dataframe\">\n",
       "  <thead>\n",
       "    <tr style=\"text-align: right;\">\n",
       "      <th></th>\n",
       "      <th>URL</th>\n",
       "      <th>Label</th>\n",
       "      <th>X</th>\n",
       "      <th>text_stemmed</th>\n",
       "    </tr>\n",
       "  </thead>\n",
       "  <tbody>\n",
       "    <tr>\n",
       "      <th>106461</th>\n",
       "      <td>irprpro.com/wp-admin/css/new</td>\n",
       "      <td>bad</td>\n",
       "      <td>[irprpro, com, wp, admin, css, new]</td>\n",
       "      <td>[irprpro, com, wp, admin, css, new]</td>\n",
       "    </tr>\n",
       "    <tr>\n",
       "      <th>289782</th>\n",
       "      <td>beauregardsfamily.com/00ALL_NAMES.htm</td>\n",
       "      <td>good</td>\n",
       "      <td>[beauregardsfamily, com, ALL, NAMES, htm]</td>\n",
       "      <td>[beauregardsfamili, com, all, name, htm]</td>\n",
       "    </tr>\n",
       "    <tr>\n",
       "      <th>119063</th>\n",
       "      <td>savingfaithchurch.org/wp-content/plugins/updat...</td>\n",
       "      <td>bad</td>\n",
       "      <td>[savingfaithchurch, org, wp, content, plugins,...</td>\n",
       "      <td>[savingfaithchurch, org, wp, content, plugin, ...</td>\n",
       "    </tr>\n",
       "    <tr>\n",
       "      <th>262075</th>\n",
       "      <td>worldfilm.about.com/cs/spanishfilms/fr/21grams...</td>\n",
       "      <td>good</td>\n",
       "      <td>[worldfilm, about, com, cs, spanishfilms, fr, ...</td>\n",
       "      <td>[worldfilm, about, com, cs, spanishfilm, fr, g...</td>\n",
       "    </tr>\n",
       "    <tr>\n",
       "      <th>95118</th>\n",
       "      <td>www.gmks.com/MAGIC/Analyst.html</td>\n",
       "      <td>good</td>\n",
       "      <td>[www, gmks, com, MAGIC, Analyst, html]</td>\n",
       "      <td>[www, gmk, com, magic, analyst, html]</td>\n",
       "    </tr>\n",
       "  </tbody>\n",
       "</table>\n",
       "</div>"
      ],
      "text/plain": [
       "                                                      URL Label  \\\n",
       "106461                       irprpro.com/wp-admin/css/new   bad   \n",
       "289782              beauregardsfamily.com/00ALL_NAMES.htm  good   \n",
       "119063  savingfaithchurch.org/wp-content/plugins/updat...   bad   \n",
       "262075  worldfilm.about.com/cs/spanishfilms/fr/21grams...  good   \n",
       "95118                     www.gmks.com/MAGIC/Analyst.html  good   \n",
       "\n",
       "                                                        X  \\\n",
       "106461                [irprpro, com, wp, admin, css, new]   \n",
       "289782          [beauregardsfamily, com, ALL, NAMES, htm]   \n",
       "119063  [savingfaithchurch, org, wp, content, plugins,...   \n",
       "262075  [worldfilm, about, com, cs, spanishfilms, fr, ...   \n",
       "95118              [www, gmks, com, MAGIC, Analyst, html]   \n",
       "\n",
       "                                             text_stemmed  \n",
       "106461                [irprpro, com, wp, admin, css, new]  \n",
       "289782           [beauregardsfamili, com, all, name, htm]  \n",
       "119063  [savingfaithchurch, org, wp, content, plugin, ...  \n",
       "262075  [worldfilm, about, com, cs, spanishfilm, fr, g...  \n",
       "95118               [www, gmk, com, magic, analyst, html]  "
      ]
     },
     "execution_count": 21,
     "metadata": {},
     "output_type": "execute_result"
    }
   ],
   "source": [
    "df.sample(5)"
   ]
  },
  {
   "cell_type": "code",
   "execution_count": null,
   "id": "b1ccfc55",
   "metadata": {},
   "outputs": [],
   "source": [
    "df['text_join'] = df['text_stemmed'].map(lambda l: ' '.join(l))"
   ]
  },
  {
   "cell_type": "code",
   "execution_count": null,
   "id": "f550bbea",
   "metadata": {},
   "outputs": [
    {
     "data": {
      "text/html": [
       "<div>\n",
       "<style scoped>\n",
       "    .dataframe tbody tr th:only-of-type {\n",
       "        vertical-align: middle;\n",
       "    }\n",
       "\n",
       "    .dataframe tbody tr th {\n",
       "        vertical-align: top;\n",
       "    }\n",
       "\n",
       "    .dataframe thead th {\n",
       "        text-align: right;\n",
       "    }\n",
       "</style>\n",
       "<table border=\"1\" class=\"dataframe\">\n",
       "  <thead>\n",
       "    <tr style=\"text-align: right;\">\n",
       "      <th></th>\n",
       "      <th>URL</th>\n",
       "      <th>Label</th>\n",
       "      <th>X</th>\n",
       "      <th>text_stemmed</th>\n",
       "      <th>text_join</th>\n",
       "    </tr>\n",
       "  </thead>\n",
       "  <tbody>\n",
       "    <tr>\n",
       "      <th>0</th>\n",
       "      <td>nobell.it/70ffb52d079109dca5664cce6f317373782/...</td>\n",
       "      <td>bad</td>\n",
       "      <td>[nobell, it, ffb, d, dca, cce, f, login, SkyPe...</td>\n",
       "      <td>[nobel, it, ffb, d, dca, cce, f, login, skype,...</td>\n",
       "      <td>nobel it ffb d dca cce f login skype com en cg...</td>\n",
       "    </tr>\n",
       "    <tr>\n",
       "      <th>1</th>\n",
       "      <td>www.dghjdgf.com/paypal.co.uk/cycgi-bin/webscrc...</td>\n",
       "      <td>bad</td>\n",
       "      <td>[www, dghjdgf, com, paypal, co, uk, cycgi, bin...</td>\n",
       "      <td>[www, dghjdgf, com, paypal, co, uk, cycgi, bin...</td>\n",
       "      <td>www dghjdgf com paypal co uk cycgi bin webscrc...</td>\n",
       "    </tr>\n",
       "    <tr>\n",
       "      <th>2</th>\n",
       "      <td>serviciosbys.com/paypal.cgi.bin.get-into.herf....</td>\n",
       "      <td>bad</td>\n",
       "      <td>[serviciosbys, com, paypal, cgi, bin, get, int...</td>\n",
       "      <td>[serviciosbi, com, paypal, cgi, bin, get, into...</td>\n",
       "      <td>serviciosbi com paypal cgi bin get into herf s...</td>\n",
       "    </tr>\n",
       "    <tr>\n",
       "      <th>3</th>\n",
       "      <td>mail.printakid.com/www.online.americanexpress....</td>\n",
       "      <td>bad</td>\n",
       "      <td>[mail, printakid, com, www, online, americanex...</td>\n",
       "      <td>[mail, printakid, com, www, onlin, americanexp...</td>\n",
       "      <td>mail printakid com www onlin americanexpress c...</td>\n",
       "    </tr>\n",
       "    <tr>\n",
       "      <th>4</th>\n",
       "      <td>thewhiskeydregs.com/wp-content/themes/widescre...</td>\n",
       "      <td>bad</td>\n",
       "      <td>[thewhiskeydregs, com, wp, content, themes, wi...</td>\n",
       "      <td>[thewhiskeydreg, com, wp, content, theme, wide...</td>\n",
       "      <td>thewhiskeydreg com wp content theme widescreen...</td>\n",
       "    </tr>\n",
       "    <tr>\n",
       "      <th>...</th>\n",
       "      <td>...</td>\n",
       "      <td>...</td>\n",
       "      <td>...</td>\n",
       "      <td>...</td>\n",
       "      <td>...</td>\n",
       "    </tr>\n",
       "    <tr>\n",
       "      <th>549841</th>\n",
       "      <td>cam.ac.uk</td>\n",
       "      <td>good</td>\n",
       "      <td>[cam, ac, uk]</td>\n",
       "      <td>[cam, ac, uk]</td>\n",
       "      <td>cam ac uk</td>\n",
       "    </tr>\n",
       "    <tr>\n",
       "      <th>549842</th>\n",
       "      <td>over-blog-kiwi.com</td>\n",
       "      <td>good</td>\n",
       "      <td>[over, blog, kiwi, com]</td>\n",
       "      <td>[over, blog, kiwi, com]</td>\n",
       "      <td>over blog kiwi com</td>\n",
       "    </tr>\n",
       "    <tr>\n",
       "      <th>549843</th>\n",
       "      <td>merriam-webster.com</td>\n",
       "      <td>good</td>\n",
       "      <td>[merriam, webster, com]</td>\n",
       "      <td>[merriam, webster, com]</td>\n",
       "      <td>merriam webster com</td>\n",
       "    </tr>\n",
       "    <tr>\n",
       "      <th>549844</th>\n",
       "      <td>bp3.blogger.com</td>\n",
       "      <td>good</td>\n",
       "      <td>[bp, blogger, com]</td>\n",
       "      <td>[bp, blogger, com]</td>\n",
       "      <td>bp blogger com</td>\n",
       "    </tr>\n",
       "    <tr>\n",
       "      <th>549845</th>\n",
       "      <td>kinja.com</td>\n",
       "      <td>good</td>\n",
       "      <td>[kinja, com]</td>\n",
       "      <td>[kinja, com]</td>\n",
       "      <td>kinja com</td>\n",
       "    </tr>\n",
       "  </tbody>\n",
       "</table>\n",
       "<p>549846 rows × 5 columns</p>\n",
       "</div>"
      ],
      "text/plain": [
       "                                                      URL Label  \\\n",
       "0       nobell.it/70ffb52d079109dca5664cce6f317373782/...   bad   \n",
       "1       www.dghjdgf.com/paypal.co.uk/cycgi-bin/webscrc...   bad   \n",
       "2       serviciosbys.com/paypal.cgi.bin.get-into.herf....   bad   \n",
       "3       mail.printakid.com/www.online.americanexpress....   bad   \n",
       "4       thewhiskeydregs.com/wp-content/themes/widescre...   bad   \n",
       "...                                                   ...   ...   \n",
       "549841                                          cam.ac.uk  good   \n",
       "549842                                 over-blog-kiwi.com  good   \n",
       "549843                                merriam-webster.com  good   \n",
       "549844                                    bp3.blogger.com  good   \n",
       "549845                                          kinja.com  good   \n",
       "\n",
       "                                                        X  \\\n",
       "0       [nobell, it, ffb, d, dca, cce, f, login, SkyPe...   \n",
       "1       [www, dghjdgf, com, paypal, co, uk, cycgi, bin...   \n",
       "2       [serviciosbys, com, paypal, cgi, bin, get, int...   \n",
       "3       [mail, printakid, com, www, online, americanex...   \n",
       "4       [thewhiskeydregs, com, wp, content, themes, wi...   \n",
       "...                                                   ...   \n",
       "549841                                      [cam, ac, uk]   \n",
       "549842                            [over, blog, kiwi, com]   \n",
       "549843                            [merriam, webster, com]   \n",
       "549844                                 [bp, blogger, com]   \n",
       "549845                                       [kinja, com]   \n",
       "\n",
       "                                             text_stemmed  \\\n",
       "0       [nobel, it, ffb, d, dca, cce, f, login, skype,...   \n",
       "1       [www, dghjdgf, com, paypal, co, uk, cycgi, bin...   \n",
       "2       [serviciosbi, com, paypal, cgi, bin, get, into...   \n",
       "3       [mail, printakid, com, www, onlin, americanexp...   \n",
       "4       [thewhiskeydreg, com, wp, content, theme, wide...   \n",
       "...                                                   ...   \n",
       "549841                                      [cam, ac, uk]   \n",
       "549842                            [over, blog, kiwi, com]   \n",
       "549843                            [merriam, webster, com]   \n",
       "549844                                 [bp, blogger, com]   \n",
       "549845                                       [kinja, com]   \n",
       "\n",
       "                                                text_join  \n",
       "0       nobel it ffb d dca cce f login skype com en cg...  \n",
       "1       www dghjdgf com paypal co uk cycgi bin webscrc...  \n",
       "2       serviciosbi com paypal cgi bin get into herf s...  \n",
       "3       mail printakid com www onlin americanexpress c...  \n",
       "4       thewhiskeydreg com wp content theme widescreen...  \n",
       "...                                                   ...  \n",
       "549841                                          cam ac uk  \n",
       "549842                                 over blog kiwi com  \n",
       "549843                                merriam webster com  \n",
       "549844                                     bp blogger com  \n",
       "549845                                          kinja com  \n",
       "\n",
       "[549846 rows x 5 columns]"
      ]
     },
     "execution_count": 23,
     "metadata": {},
     "output_type": "execute_result"
    }
   ],
   "source": [
    "df"
   ]
  },
  {
   "cell_type": "code",
   "execution_count": null,
   "id": "914cb0f1",
   "metadata": {},
   "outputs": [
    {
     "ename": "NameError",
     "evalue": "name 'webdriver' is not defined",
     "output_type": "error",
     "traceback": [
      "\u001b[1;31m---------------------------------------------------------------------------\u001b[0m",
      "\u001b[1;31mNameError\u001b[0m                                 Traceback (most recent call last)",
      "\u001b[1;32m<ipython-input-24-5e499766371f>\u001b[0m in \u001b[0;36m<module>\u001b[1;34m\u001b[0m\n\u001b[1;32m----> 1\u001b[1;33m \u001b[0mbrowser\u001b[0m \u001b[1;33m=\u001b[0m \u001b[0mwebdriver\u001b[0m\u001b[1;33m.\u001b[0m\u001b[0mChrome\u001b[0m\u001b[1;33m(\u001b[0m\u001b[0mexecutable_path\u001b[0m \u001b[1;33m=\u001b[0m\u001b[1;34mr\"C:\\Users\\hp\\Downloads\\chromedriver_win32\\chromedriver\"\u001b[0m\u001b[1;33m)\u001b[0m\u001b[1;33m\u001b[0m\u001b[1;33m\u001b[0m\u001b[0m\n\u001b[0m",
      "\u001b[1;31mNameError\u001b[0m: name 'webdriver' is not defined"
     ]
    }
   ],
   "source": [
    "browser = webdriver.Chrome(executable_path =r\"C:\\Users\\hp\\Downloads\\chromedriver_win32\\chromedriver\")"
   ]
  },
  {
   "cell_type": "code",
   "execution_count": null,
   "id": "0d87cf51",
   "metadata": {},
   "outputs": [],
   "source": [
    "bad_sites = df[df.Label == 'bad']\n",
    "good_sites = df[df.Label == 'good']"
   ]
  },
  {
   "cell_type": "code",
   "execution_count": null,
   "id": "c81d374b",
   "metadata": {},
   "outputs": [],
   "source": [
    "tf = TfidfVectorizer()"
   ]
  },
  {
   "cell_type": "code",
   "execution_count": null,
   "id": "d071eb79",
   "metadata": {},
   "outputs": [],
   "source": [
    "feature = tf.fit_transform(df.text_join)"
   ]
  },
  {
   "cell_type": "code",
   "execution_count": null,
   "id": "5b5463f5",
   "metadata": {},
   "outputs": [
    {
     "data": {
      "text/plain": [
       "array([[0., 0., 0., ..., 0., 0., 0.],\n",
       "       [0., 0., 0., ..., 0., 0., 0.],\n",
       "       [0., 0., 0., ..., 0., 0., 0.],\n",
       "       [0., 0., 0., ..., 0., 0., 0.],\n",
       "       [0., 0., 0., ..., 0., 0., 0.]])"
      ]
     },
     "execution_count": 28,
     "metadata": {},
     "output_type": "execute_result"
    }
   ],
   "source": [
    "feature[:5].toarray()"
   ]
  },
  {
   "cell_type": "code",
   "execution_count": null,
   "id": "f8585466",
   "metadata": {},
   "outputs": [],
   "source": [
    "x_train,x_test,y_train,y_test = train_test_split(feature,df.Label)"
   ]
  },
  {
   "cell_type": "code",
   "execution_count": null,
   "id": "76ffbf2e",
   "metadata": {},
   "outputs": [],
   "source": [
    "lr = LogisticRegression()"
   ]
  },
  {
   "cell_type": "code",
   "execution_count": null,
   "id": "5173fa41",
   "metadata": {},
   "outputs": [
    {
     "name": "stderr",
     "output_type": "stream",
     "text": [
      "C:\\ProgramData\\Anaconda3\\lib\\site-packages\\sklearn\\linear_model\\_logistic.py:763: ConvergenceWarning: lbfgs failed to converge (status=1):\n",
      "STOP: TOTAL NO. of ITERATIONS REACHED LIMIT.\n",
      "\n",
      "Increase the number of iterations (max_iter) or scale the data as shown in:\n",
      "    https://scikit-learn.org/stable/modules/preprocessing.html\n",
      "Please also refer to the documentation for alternative solver options:\n",
      "    https://scikit-learn.org/stable/modules/linear_model.html#logistic-regression\n",
      "  n_iter_i = _check_optimize_result(\n"
     ]
    },
    {
     "data": {
      "text/plain": [
       "LogisticRegression()"
      ]
     },
     "execution_count": 33,
     "metadata": {},
     "output_type": "execute_result"
    }
   ],
   "source": [
    "lr.fit(x_train,y_train)"
   ]
  },
  {
   "cell_type": "code",
   "execution_count": null,
   "id": "f70f08f7",
   "metadata": {},
   "outputs": [
    {
     "data": {
      "text/plain": [
       "0.9591814465088534"
      ]
     },
     "execution_count": 34,
     "metadata": {},
     "output_type": "execute_result"
    }
   ],
   "source": [
    "lr.score(x_test,y_test)"
   ]
  },
  {
   "cell_type": "code",
   "execution_count": null,
   "id": "94cd1334",
   "metadata": {},
   "outputs": [],
   "source": [
    "sv = LinearSVC()"
   ]
  },
  {
   "cell_type": "code",
   "execution_count": null,
   "id": "849ea156",
   "metadata": {},
   "outputs": [
    {
     "data": {
      "text/plain": [
       "LinearSVC()"
      ]
     },
     "execution_count": 36,
     "metadata": {},
     "output_type": "execute_result"
    }
   ],
   "source": [
    "sv.fit(x_train,y_train)"
   ]
  },
  {
   "cell_type": "code",
   "execution_count": null,
   "id": "5bc36bfd",
   "metadata": {},
   "outputs": [
    {
     "data": {
      "text/plain": [
       "0.9799726469860761"
      ]
     },
     "execution_count": 37,
     "metadata": {},
     "output_type": "execute_result"
    }
   ],
   "source": [
    "sv.score(x_test,y_test)"
   ]
  },
  {
   "cell_type": "code",
   "execution_count": null,
   "id": "92c2d993",
   "metadata": {},
   "outputs": [
    {
     "name": "stdout",
     "output_type": "stream",
     "text": [
      "Training Accuracy : 0.9978927407464887\n",
      "Testing Acccuracy : 0.9799726469860761\n"
     ]
    }
   ],
   "source": [
    "print('Training Accuracy :',sv.score(x_train,y_train))\n",
    "print('Testing Acccuracy :',sv.score(x_test,y_test))\n",
    "\n",
    "       \n"
   ]
  },
  {
   "cell_type": "code",
   "execution_count": null,
   "id": "1e8be6ef",
   "metadata": {},
   "outputs": [
    {
     "name": "stdout",
     "output_type": "stream",
     "text": [
      "              precision    recall  f1-score   support\n",
      "\n",
      "         Bad       0.95      0.97      0.96     38277\n",
      "        Good       0.99      0.98      0.99     99185\n",
      "\n",
      "    accuracy                           0.98    137462\n",
      "   macro avg       0.97      0.98      0.98    137462\n",
      "weighted avg       0.98      0.98      0.98    137462\n",
      "\n"
     ]
    }
   ],
   "source": [
    "print(classification_report(sv.predict(x_test),y_test,target_names = ['Bad','Good']))"
   ]
  },
  {
   "cell_type": "code",
   "execution_count": null,
   "id": "28352924",
   "metadata": {},
   "outputs": [],
   "source": [
    "cf_mx = pd.DataFrame(confusion_matrix(sv.predict(x_test),y_test),columns = ['Predicted:Bad','Predicted:Good'],index =['Actual:Bad','Actual:Good'])"
   ]
  },
  {
   "cell_type": "code",
   "execution_count": null,
   "id": "6ef06492",
   "metadata": {},
   "outputs": [
    {
     "data": {
      "text/plain": [
       "<AxesSubplot:>"
      ]
     },
     "execution_count": 41,
     "metadata": {},
     "output_type": "execute_result"
    },
    {
     "data": {
      "image/png": "[encoded data removed]",
      "text/plain": [
       "<Figure size 504x360 with 2 Axes>"
      ]
     },
     "metadata": {
      "needs_background": "light"
     },
     "output_type": "display_data"
    }
   ],
   "source": [
    "plt.figure(figsize =(7,5))\n",
    "sns.heatmap(cf_mx,cmap='YlGnBu')"
   ]
  },
  {
   "cell_type": "code",
   "execution_count": null,
   "id": "58bfdf4d",
   "metadata": {},
   "outputs": [],
   "source": [
    "pipeline_sv = make_pipeline(TfidfVectorizer(tokenizer = RegexpTokenizer(r'[A-Za-z]+').tokenize,stop_words = 'english'),LinearSVC())"
   ]
  },
  {
   "cell_type": "code",
   "execution_count": null,
   "id": "5c0036cc",
   "metadata": {},
   "outputs": [],
   "source": [
    "x_train,x_test,y_train,y_test = train_test_split(df.URL,df.Label)"
   ]
  },
  {
   "cell_type": "code",
   "execution_count": null,
   "id": "454e7b45",
   "metadata": {},
   "outputs": [
    {
     "data": {
      "text/plain": [
       "Pipeline(steps=[('tfidfvectorizer',\n",
       "                 TfidfVectorizer(stop_words='english',\n",
       "                                 tokenizer=<bound method RegexpTokenizer.tokenize of RegexpTokenizer(pattern='[A-Za-z]+', gaps=False, discard_empty=True, flags=re.UNICODE|re.MULTILINE|re.DOTALL)>)),\n",
       "                ('linearsvc', LinearSVC())])"
      ]
     },
     "execution_count": 44,
     "metadata": {},
     "output_type": "execute_result"
    }
   ],
   "source": [
    "pipeline_sv.fit(x_train,y_train)"
   ]
  },
  {
   "cell_type": "code",
   "execution_count": null,
   "id": "022d9dd4",
   "metadata": {},
   "outputs": [
    {
     "data": {
      "text/plain": [
       "0.9809183628930177"
      ]
     },
     "execution_count": 45,
     "metadata": {},
     "output_type": "execute_result"
    }
   ],
   "source": [
    "pipeline_sv.score(x_test,y_test)"
   ]
  },
  {
   "cell_type": "code",
   "execution_count": null,
   "id": "dd907fc6",
   "metadata": {},
   "outputs": [
    {
     "name": "stdout",
     "output_type": "stream",
     "text": [
      "Training Accuracy : 0.9981982812136261\n",
      "Testing Acccuracy : 0.9809183628930177\n"
     ]
    }
   ],
   "source": [
    "print('Training Accuracy :',pipeline_sv.score(x_train,y_train))\n",
    "print('Testing Acccuracy :',pipeline_sv.score(x_test,y_test))"
   ]
  },
  {
   "cell_type": "code",
   "execution_count": null,
   "id": "69f42cca",
   "metadata": {},
   "outputs": [],
   "source": [
    "cf_mx = pd.DataFrame(confusion_matrix(pipeline_sv.predict(x_test),y_test),columns = ['Predicted:Bad','Predicted:Good'],index =['Actual:Bad','Actual:Good'])"
   ]
  },
  {
   "cell_type": "code",
   "execution_count": null,
   "id": "ef6bde4d",
   "metadata": {},
   "outputs": [
    {
     "name": "stdout",
     "output_type": "stream",
     "text": [
      "              precision    recall  f1-score   support\n",
      "\n",
      "         Bad       0.95      0.98      0.97     38046\n",
      "        Good       0.99      0.98      0.99     99416\n",
      "\n",
      "    accuracy                           0.98    137462\n",
      "   macro avg       0.97      0.98      0.98    137462\n",
      "weighted avg       0.98      0.98      0.98    137462\n",
      "\n"
     ]
    }
   ],
   "source": [
    "print(classification_report(pipeline_sv.predict(x_test),y_test,target_names = ['Bad','Good']))"
   ]
  },
  {
   "cell_type": "code",
   "execution_count": null,
   "id": "54b2561e",
   "metadata": {},
   "outputs": [
    {
     "data": {
      "text/plain": [
       "<AxesSubplot:>"
      ]
     },
     "execution_count": 47,
     "metadata": {},
     "output_type": "execute_result"
    },
    {
     "data": {
      "image/png": "[encoded data removed]",
      "text/plain": [
       "<Figure size 504x360 with 2 Axes>"
      ]
     },
     "metadata": {
      "needs_background": "light"
     },
     "output_type": "display_data"
    }
   ],
   "source": [
    "plt.figure(figsize =(7,5))\n",
    "sns.heatmap(cf_mx,cmap='YlGnBu')"
   ]
  },
  {
   "cell_type": "code",
   "execution_count": null,
   "id": "1c9065cd",
   "metadata": {},
   "outputs": [],
   "source": [
    "pickle.dump(pipeline_sv,open('malicious.pkl','wb'))"
   ]
  },
  {
   "cell_type": "code",
   "execution_count": null,
   "id": "c1ccd467",
   "metadata": {},
   "outputs": [
    {
     "name": "stdout",
     "output_type": "stream",
     "text": [
      "0.9809183628930177\n"
     ]
    }
   ],
   "source": [
    "loaded_model = pickle.load(open('malicious.pkl','rb'))\n",
    "result = loaded_model.score(x_test,y_test)\n",
    "print(result)"
   ]
  },
  {
   "cell_type": "code",
   "execution_count": null,
   "id": "748597db",
   "metadata": {},
   "outputs": [],
   "source": [
    "predict_bad = ['nobell.it/70ffb52d079109dca5664cce6f317373782/login.SkyPe.com/en/cgi-bin/verification/login/70ffb52d079109dca5664cce6f317373/index.php?cmd=_profile-ach&outdated_page_tmpl=p/gen/failed-to-load&nav=0.5.1&login_access=1322408526']"
   ]
  },
  {
   "cell_type": "code",
   "execution_count": null,
   "id": "5fa51019",
   "metadata": {},
   "outputs": [],
   "source": [
    "predict_good = ['epublishasia.com/']"
   ]
  },
  {
   "cell_type": "code",
   "execution_count": null,
   "id": "dae29351",
   "metadata": {},
   "outputs": [
    {
     "name": "stdout",
     "output_type": "stream",
     "text": [
      "['bad']\n"
     ]
    }
   ],
   "source": [
    "loaded_model = pickle.load(open('malicious.pkl','rb'))\n",
    "result = loaded_model.predict(predict_bad)\n",
    "print(result)"
   ]
  },
  {
   "cell_type": "code",
   "execution_count": null,
   "id": "dd0e3f50",
   "metadata": {},
   "outputs": [
    {
     "ename": "NameError",
     "evalue": "name 'predict_good' is not defined",
     "output_type": "error",
     "traceback": [
      "\u001b[1;31m---------------------------------------------------------------------------\u001b[0m",
      "\u001b[1;31mNameError\u001b[0m                                 Traceback (most recent call last)",
      "\u001b[1;32m<ipython-input-56-59e2021c777e>\u001b[0m in \u001b[0;36m<module>\u001b[1;34m\u001b[0m\n\u001b[0;32m      1\u001b[0m \u001b[0mloaded_model\u001b[0m \u001b[1;33m=\u001b[0m \u001b[0mpickle\u001b[0m\u001b[1;33m.\u001b[0m\u001b[0mload\u001b[0m\u001b[1;33m(\u001b[0m\u001b[0mopen\u001b[0m\u001b[1;33m(\u001b[0m\u001b[1;34m'malicious.pkl'\u001b[0m\u001b[1;33m,\u001b[0m\u001b[1;34m'rb'\u001b[0m\u001b[1;33m)\u001b[0m\u001b[1;33m)\u001b[0m\u001b[1;33m\u001b[0m\u001b[1;33m\u001b[0m\u001b[0m\n\u001b[1;32m----> 2\u001b[1;33m \u001b[0mresult\u001b[0m \u001b[1;33m=\u001b[0m \u001b[0mloaded_model\u001b[0m\u001b[1;33m.\u001b[0m\u001b[0mpredict\u001b[0m\u001b[1;33m(\u001b[0m\u001b[0mpredict_good\u001b[0m\u001b[1;33m)\u001b[0m\u001b[1;33m\u001b[0m\u001b[1;33m\u001b[0m\u001b[0m\n\u001b[0m\u001b[0;32m      3\u001b[0m \u001b[0mprint\u001b[0m\u001b[1;33m(\u001b[0m\u001b[0mresult\u001b[0m\u001b[1;33m)\u001b[0m\u001b[1;33m\u001b[0m\u001b[1;33m\u001b[0m\u001b[0m\n",
      "\u001b[1;31mNameError\u001b[0m: name 'predict_good' is not defined"
     ]
    }
   ],
   "source": [
    "loaded_model = pickle.load(open('malicious.pkl','rb'))\n",
    "result = loaded_model.predict(predict_good)\n",
    "print(result)"
   ]
  },
  {
   "cell_type": "code",
   "execution_count": null,
   "id": "6576ecae",
   "metadata": {},
   "outputs": [],
   "source": []
  },
  {
   "cell_type": "code",
   "execution_count": null,
   "id": "44def8b8",
   "metadata": {},
   "outputs": [],
   "source": []
  },
  {
   "cell_type": "code",
   "execution_count": null,
   "id": "b084c7a5",
   "metadata": {},
   "outputs": [],
   "source": []
  },
  {
   "cell_type": "code",
   "execution_count": null,
   "id": "1b1d53c9",
   "metadata": {},
   "outputs": [],
   "source": []
  },
  {
   "cell_type": "code",
   "execution_count": null,
   "id": "6d03578a",
   "metadata": {},
   "outputs": [],
   "source": []
  },
  {
   "cell_type": "code",
   "execution_count": null,
   "id": "472201e3",
   "metadata": {},
   "outputs": [],
   "source": []
  },
  {
   "cell_type": "code",
   "execution_count": null,
   "id": "da5a63ac",
   "metadata": {},
   "outputs": [],
   "source": []
  },
  {
   "cell_type": "code",
   "execution_count": null,
   "id": "42db99e5",
   "metadata": {},
   "outputs": [],
   "source": []
  },
  {
   "cell_type": "code",
   "execution_count": null,
   "id": "99135e7f",
   "metadata": {},
   "outputs": [],
   "source": []
  },
  {
   "cell_type": "code",
   "execution_count": null,
   "id": "478b5550",
   "metadata": {},
   "outputs": [],
   "source": []
  },
  {
   "cell_type": "code",
   "execution_count": null,
   "id": "5205c75b",
   "metadata": {},
   "outputs": [],
   "source": []
  },
  {
   "cell_type": "code",
   "execution_count": null,
   "id": "a75f417e",
   "metadata": {},
   "outputs": [],
   "source": []
  },
  {
   "cell_type": "code",
   "execution_count": null,
   "id": "da41106b",
   "metadata": {},
   "outputs": [],
   "source": []
  },
  {
   "cell_type": "code",
   "execution_count": null,
   "id": "4d9f91ad",
   "metadata": {},
   "outputs": [],
   "source": []
  },
  {
   "cell_type": "code",
   "execution_count": null,
   "id": "d092c23f",
   "metadata": {},
   "outputs": [],
   "source": []
  },
  {
   "cell_type": "code",
   "execution_count": null,
   "id": "1b3d5f24",
   "metadata": {},
   "outputs": [],
   "source": []
  },
  {
   "cell_type": "code",
   "execution_count": null,
   "id": "2a15c0ca",
   "metadata": {},
   "outputs": [],
   "source": []
  },
  {
   "cell_type": "code",
   "execution_count": null,
   "id": "38a37867",
   "metadata": {},
   "outputs": [],
   "source": []
  },
  {
   "cell_type": "code",
   "execution_count": null,
   "id": "dd63f4f6",
   "metadata": {},
   "outputs": [],
   "source": []
  },
  {
   "cell_type": "code",
   "execution_count": null,
   "id": "bfde7f29",
   "metadata": {},
   "outputs": [],
   "source": []
  },
  {
   "cell_type": "code",
   "execution_count": null,
   "id": "c859f937",
   "metadata": {},
   "outputs": [],
   "source": []
  },
  {
   "cell_type": "code",
   "execution_count": null,
   "id": "25dd7823",
   "metadata": {},
   "outputs": [],
   "source": []
  },
  {
   "cell_type": "code",
   "execution_count": null,
   "id": "65f1857e",
   "metadata": {},
   "outputs": [],
   "source": []
  },
  {
   "cell_type": "code",
   "execution_count": null,
   "id": "b6b3638e",
   "metadata": {},
   "outputs": [],
   "source": []
  },
  {
   "cell_type": "code",
   "execution_count": null,
   "id": "8973bb26",
   "metadata": {},
   "outputs": [],
   "source": []
  },
  {
   "cell_type": "code",
   "execution_count": null,
   "id": "1db2f900",
   "metadata": {},
   "outputs": [],
   "source": []
  },
  {
   "cell_type": "code",
   "execution_count": null,
   "id": "adc6cbe3",
   "metadata": {},
   "outputs": [],
   "source": []
  },
  {
   "cell_type": "code",
   "execution_count": null,
   "id": "ab460fe4",
   "metadata": {},
   "outputs": [],
   "source": []
  },
  {
   "cell_type": "code",
   "execution_count": null,
   "id": "b037b443",
   "metadata": {},
   "outputs": [],
   "source": []
  },
  {
   "cell_type": "code",
   "execution_count": null,
   "id": "13b1561f",
   "metadata": {},
   "outputs": [],
   "source": []
  },
  {
   "cell_type": "code",
   "execution_count": null,
   "id": "69bac493",
   "metadata": {},
   "outputs": [],
   "source": []
  },
  {
   "cell_type": "code",
   "execution_count": null,
   "id": "0f0dabab",
   "metadata": {},
   "outputs": [],
   "source": []
  },
  {
   "cell_type": "code",
   "execution_count": null,
   "id": "62f9cf5b",
   "metadata": {},
   "outputs": [],
   "source": []
  },
  {
   "cell_type": "code",
   "execution_count": null,
   "id": "28ea9a0d",
   "metadata": {},
   "outputs": [],
   "source": []
  },
  {
   "cell_type": "code",
   "execution_count": null,
   "id": "88fea868",
   "metadata": {},
   "outputs": [],
   "source": []
  },
  {
   "cell_type": "code",
   "execution_count": null,
   "id": "ed06b489",
   "metadata": {},
   "outputs": [],
   "source": []
  },
  {
   "cell_type": "code",
   "execution_count": null,
   "id": "ad5153b4",
   "metadata": {},
   "outputs": [],
   "source": []
  },
  {
   "cell_type": "code",
   "execution_count": null,
   "id": "aad96b55",
   "metadata": {},
   "outputs": [],
   "source": []
  },
  {
   "cell_type": "code",
   "execution_count": null,
   "id": "6894a3a6",
   "metadata": {},
   "outputs": [],
   "source": []
  },
  {
   "cell_type": "code",
   "execution_count": null,
   "id": "5dc7dc18",
   "metadata": {},
   "outputs": [],
   "source": []
  },
  {
   "cell_type": "code",
   "execution_count": null,
   "id": "a30832be",
   "metadata": {},
   "outputs": [],
   "source": []
  },
  {
   "cell_type": "code",
   "execution_count": null,
   "id": "efcda29e",
   "metadata": {},
   "outputs": [],
   "source": []
  },
  {
   "cell_type": "code",
   "execution_count": null,
   "id": "446b74cf",
   "metadata": {},
   "outputs": [],
   "source": []
  },
  {
   "cell_type": "code",
   "execution_count": null,
   "id": "45510f38",
   "metadata": {},
   "outputs": [],
   "source": []
  },
  {
   "cell_type": "code",
   "execution_count": null,
   "id": "ecaf21f7",
   "metadata": {},
   "outputs": [],
   "source": []
  },
  {
   "cell_type": "code",
   "execution_count": null,
   "id": "f3bc053e",
   "metadata": {},
   "outputs": [],
   "source": []
  },
  {
   "cell_type": "code",
   "execution_count": null,
   "id": "80aa7e25",
   "metadata": {},
   "outputs": [],
   "source": []
  },
  {
   "cell_type": "code",
   "execution_count": null,
   "id": "c8280a19",
   "metadata": {},
   "outputs": [],
   "source": []
  },
  {
   "cell_type": "code",
   "execution_count": null,
   "id": "739c9827",
   "metadata": {},
   "outputs": [],
   "source": []
  },
  {
   "cell_type": "code",
   "execution_count": null,
   "id": "7e023ace",
   "metadata": {},
   "outputs": [],
   "source": []
  },
  {
   "cell_type": "code",
   "execution_count": null,
   "id": "bd0ca3ac",
   "metadata": {},
   "outputs": [],
   "source": []
  },
  {
   "cell_type": "code",
   "execution_count": null,
   "id": "a1861d6a",
   "metadata": {},
   "outputs": [],
   "source": []
  },
  {
   "cell_type": "code",
   "execution_count": null,
   "id": "a2c2ed80",
   "metadata": {},
   "outputs": [],
   "source": []
  },
  {
   "cell_type": "code",
   "execution_count": null,
   "id": "805c9957",
   "metadata": {},
   "outputs": [],
   "source": []
  },
  {
   "cell_type": "code",
   "execution_count": null,
   "id": "e6af87b9",
   "metadata": {},
   "outputs": [],
   "source": []
  },
  {
   "cell_type": "code",
   "execution_count": null,
   "id": "40812756",
   "metadata": {},
   "outputs": [],
   "source": []
  },
  {
   "cell_type": "code",
   "execution_count": null,
   "id": "3f39c290",
   "metadata": {},
   "outputs": [],
   "source": []
  },
  {
   "cell_type": "code",
   "execution_count": null,
   "id": "4ea6a067",
   "metadata": {},
   "outputs": [],
   "source": []
  },
  {
   "cell_type": "code",
   "execution_count": null,
   "id": "43fb83e2",
   "metadata": {},
   "outputs": [
    {
     "data": {
      "text/html": [
       "<div>\n",
       "<style scoped>\n",
       "    .dataframe tbody tr th:only-of-type {\n",
       "        vertical-align: middle;\n",
       "    }\n",
       "\n",
       "    .dataframe tbody tr th {\n",
       "        vertical-align: top;\n",
       "    }\n",
       "\n",
       "    .dataframe thead th {\n",
       "        text-align: right;\n",
       "    }\n",
       "</style>\n",
       "<table border=\"1\" class=\"dataframe\">\n",
       "  <thead>\n",
       "    <tr style=\"text-align: right;\">\n",
       "      <th></th>\n",
       "      <th>URL</th>\n",
       "    </tr>\n",
       "  </thead>\n",
       "  <tbody>\n",
       "    <tr>\n",
       "      <th>0</th>\n",
       "      <td>nobell.it/70ffb52d079109dca5664cce6f317373782/...</td>\n",
       "    </tr>\n",
       "    <tr>\n",
       "      <th>1</th>\n",
       "      <td>www.dghjdgf.com/paypal.co.uk/cycgi-bin/webscrc...</td>\n",
       "    </tr>\n",
       "    <tr>\n",
       "      <th>2</th>\n",
       "      <td>serviciosbys.com/paypal.cgi.bin.get-into.herf....</td>\n",
       "    </tr>\n",
       "    <tr>\n",
       "      <th>3</th>\n",
       "      <td>mail.printakid.com/www.online.americanexpress....</td>\n",
       "    </tr>\n",
       "    <tr>\n",
       "      <th>4</th>\n",
       "      <td>thewhiskeydregs.com/wp-content/themes/widescre...</td>\n",
       "    </tr>\n",
       "    <tr>\n",
       "      <th>...</th>\n",
       "      <td>...</td>\n",
       "    </tr>\n",
       "    <tr>\n",
       "      <th>549841</th>\n",
       "      <td>cam.ac.uk</td>\n",
       "    </tr>\n",
       "    <tr>\n",
       "      <th>549842</th>\n",
       "      <td>over-blog-kiwi.com</td>\n",
       "    </tr>\n",
       "    <tr>\n",
       "      <th>549843</th>\n",
       "      <td>merriam-webster.com</td>\n",
       "    </tr>\n",
       "    <tr>\n",
       "      <th>549844</th>\n",
       "      <td>bp3.blogger.com</td>\n",
       "    </tr>\n",
       "    <tr>\n",
       "      <th>549845</th>\n",
       "      <td>kinja.com</td>\n",
       "    </tr>\n",
       "  </tbody>\n",
       "</table>\n",
       "<p>549846 rows × 1 columns</p>\n",
       "</div>"
      ],
      "text/plain": [
       "                                                      URL\n",
       "0       nobell.it/70ffb52d079109dca5664cce6f317373782/...\n",
       "1       www.dghjdgf.com/paypal.co.uk/cycgi-bin/webscrc...\n",
       "2       serviciosbys.com/paypal.cgi.bin.get-into.herf....\n",
       "3       mail.printakid.com/www.online.americanexpress....\n",
       "4       thewhiskeydregs.com/wp-content/themes/widescre...\n",
       "...                                                   ...\n",
       "549841                                          cam.ac.uk\n",
       "549842                                 over-blog-kiwi.com\n",
       "549843                                merriam-webster.com\n",
       "549844                                    bp3.blogger.com\n",
       "549845                                          kinja.com\n",
       "\n",
       "[549846 rows x 1 columns]"
      ]
     },
     "execution_count": 71,
     "metadata": {},
     "output_type": "execute_result"
    }
   ],
   "source": []
  },
  {
   "cell_type": "code",
   "execution_count": null,
   "id": "5164fff5",
   "metadata": {},
   "outputs": [],
   "source": []
  },
  {
   "cell_type": "code",
   "execution_count": null,
   "id": "e0e02a59",
   "metadata": {},
   "outputs": [],
   "source": []
  }
 ],
 "metadata": {
  "kernelspec": {
   "display_name": "Python 3 (ipykernel)",
   "language": "python",
   "name": "python3"
  },
  "language_info": {
   "codemirror_mode": {
    "name": "ipython",
    "version": 3
   },
   "file_extension": ".py",
   "mimetype": "text/x-python",
   "name": "python",
   "nbconvert_exporter": "python",
   "pygments_lexer": "ipython3",
   "version": "3.9.10"
  }
 },
 "nbformat": 4,
 "nbformat_minor": 5
}
